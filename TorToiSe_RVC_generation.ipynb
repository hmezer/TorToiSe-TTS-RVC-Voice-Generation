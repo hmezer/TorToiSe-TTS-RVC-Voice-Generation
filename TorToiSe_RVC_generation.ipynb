{
  "nbformat": 4,
  "nbformat_minor": 0,
  "metadata": {
    "colab": {
      "private_outputs": true,
      "provenance": [],
      "include_colab_link": true
    },
    "kernelspec": {
      "name": "python3",
      "display_name": "Python 3"
    },
    "language_info": {
      "name": "python"
    }
  },
  "cells": [
    {
      "cell_type": "markdown",
      "metadata": {
        "id": "view-in-github",
        "colab_type": "text"
      },
      "source": [
        "<a href=\"https://colab.research.google.com/github/hmezer/TorToiSe-TTS-RVC-Voice-Generation/blob/main/TorToiSe_RVC_generation.ipynb\" target=\"_parent\"><img src=\"https://colab.research.google.com/assets/colab-badge.svg\" alt=\"Open In Colab\"/></a>"
      ]
    },
    {
      "cell_type": "markdown",
      "source": [
        "\n",
        "**A General Prospect of the Process**\n",
        "\n",
        "In TorToiSe, generate text-to-speech (TTS) voice files using finetuned weights, and then cooking the TTS output in RVC voice conversion model with specified finetuned weights (timbre as RVC calls), output a voice file that is realistic.\n",
        "\n",
        "***\n",
        "\n",
        "**Initial Labor for Downloading the Models**\n",
        "\n",
        "You can access the Drive folder that I use to store and upload the model weights in this link:\n",
        "https://drive.google.com/drive/folders/1JIK8uqMYhggNn4x5qp9uxClyC9d3EfJs?usp=sharing\n",
        "\n",
        "I advise you to download the folder content and upload to your own Drive folder so that each time you run the code blocks in this notebook, you can utilize the structure of importing the models or otherwise uploading the trained models to Drive folder. So that another time you use the notebook, you would easily access the folder from your own Drive.\n",
        "\n",
        "Note: I could not find a better way of sharing my own trained models to anyone and if you have any advise, mail me at ezerhuseyinmert@gmail.com\n",
        "\n",
        "***\n",
        "***\n",
        "\n",
        "**Weight Storages for TorToiSe and RVC**\n",
        "\n",
        "The following are the drive folders for the TorToiSe TTS and RVC Voice Conversion weight sets:\n",
        "\n",
        "*TorToiSe*: https://drive.google.com/drive/folders/1--_4so5U9ykcGF7ZzxFhj1vKS7Txzlpi?usp=drive_link\n",
        "\n",
        "*RVC*: https://drive.google.com/drive/folders/1--_4so5U9ykcGF7ZzxFhj1vKS7Txzlpi?usp=drive_link\n",
        "\n",
        "***\n",
        "\n",
        "**Voice Datasets**\n",
        "\n",
        "Voice datasets that I used to train the weights are in the drive folder that I share here: https://drive.google.com/drive/folders/125oL1P4VJ5WB_wgxXi4-U1O4Pqjxs0R7?usp=drive_link\n",
        "\n",
        "\n",
        "***\n",
        "***\n",
        "\n",
        "**Gimmicks**\n",
        "\n",
        "* I have weights both for TorToiSe and RVC that I finetuned. You can import them from Drive with the code blocks below relevant for the task to see how good the process is. Important thing to mention might be that I used the same collection of voice files for finetuning the weights in both TTS (TorToiSe) and voice conversion (RVC). So that if I want to have an output that is the closest to the original voice, I use the weights in TorToiSe and in RVC for the same voice model. Playing around and testing different weights in each of the two steps might produce interesting results, but I avoided it since the production in the pipeline already takes quite a lot of time.\n",
        "\n",
        "* I tried once to feed RVC with the voice file TorToiSe generated for whether it could polish the voice file in iterating over it. There is a folder containing an example of it, you can check, but it seems feeding into RVC more than once only corrupts the pronunciation and does not produce something better\n",
        "* * Here is the experiment: https://drive.google.com/drive/folders/1-1gciI4Sq416GzN5SnaYmbGAjE-ei_j2?usp=drive_link\n",
        "\n",
        "* I sometimes only use TorToiSe or RVC, so initializing them both might be redundant, since these are two distinct production processes and running the two models simultaneously online in Gradio is not possible in my implementation. So, adjust the use to your needs."
      ],
      "metadata": {
        "id": "yH_tkyeIcNlO"
      }
    },
    {
      "cell_type": "markdown",
      "source": [
        "# DOWNLOAD THE DRIVE FOLDER\n",
        "This section requires to be run only once. When you download the folder in my Drive to Colab session, you will upload the folder to your own Drive, so that you can access the content easily next time you use the models\n"
      ],
      "metadata": {
        "id": "X21uK2cniFu9"
      }
    },
    {
      "cell_type": "code",
      "source": [
        "#@title Update gdown\n",
        "!pip uninstall gdown -y && pip install gdown\n",
        "!gdown -V"
      ],
      "metadata": {
        "id": "tx5-qqOVdPiZ"
      },
      "execution_count": null,
      "outputs": []
    },
    {
      "cell_type": "code",
      "source": [
        "!gdown --v"
      ],
      "metadata": {
        "id": "N1qeZFdk2hWg"
      },
      "execution_count": null,
      "outputs": []
    },
    {
      "cell_type": "code",
      "source": [
        "#@title Download the Drive folder to Colab session\n",
        "!mkdir -p /content/gdown\n",
        "# download the TTS to Colab session\n",
        "!mkdir -p /content/gdown/ai-voice-cloning-base/tortoise-backup\n",
        "!gdown --folder https://drive.google.com/drive/folders/1MrqlhjZsvH_N_DsJ13Kn437_0P7CjPuG?usp=sharing -O /content/gdown/ai-voice-cloning-base/tortoise-backup\n"
      ],
      "metadata": {
        "id": "YQty7ZfyeDwZ"
      },
      "execution_count": null,
      "outputs": []
    },
    {
      "cell_type": "code",
      "source": [
        "# download the RVC to Colab session\n",
        "!mkdir -p /content/gdown/ai-voice-cloning-base/rvc-models\n",
        "!gdown --folder https://drive.google.com/drive/folders/1--_4so5U9ykcGF7ZzxFhj1vKS7Txzlpi?usp=sharing -O /content/gdown/ai-voice-cloning-base/rvc-models"
      ],
      "metadata": {
        "id": "nBqms-H92Don"
      },
      "execution_count": null,
      "outputs": []
    },
    {
      "cell_type": "code",
      "source": [
        "#@title Mount Drive\n",
        "from google.colab import drive\n",
        "drive.mount('/content/drive')"
      ],
      "metadata": {
        "id": "pEP0m4O4mEuZ"
      },
      "execution_count": null,
      "outputs": []
    },
    {
      "cell_type": "code",
      "source": [
        "#@title Upload the folder to your Drive\n",
        "!mkdir -p /content/drive/MyDrive/ai-voice-cloning-base\n",
        "!cp /content/gdown/ai-voice-cloning-base/* /content/drive/MyDrive/ai-voice-cloning-base/"
      ],
      "metadata": {
        "id": "kyArW0pucgzL"
      },
      "execution_count": null,
      "outputs": []
    },
    {
      "cell_type": "markdown",
      "source": [
        "# INITIALIZE COLAB SESSION\n",
        "\n",
        "Remove here the sample_data folder automatically created in each Colab session and mount Drive."
      ],
      "metadata": {
        "id": "rrSn8wbKk3nK"
      }
    },
    {
      "cell_type": "code",
      "source": [
        "#@title Clear the colab directory the stupid sample data and set the notebook up\n",
        "%cd /content\n",
        "!rm -r sample_data\n",
        "\n",
        "import os"
      ],
      "metadata": {
        "id": "G1viOcG2LEn0"
      },
      "execution_count": null,
      "outputs": []
    },
    {
      "cell_type": "code",
      "source": [
        "#@title Mount Drive\n",
        "from google.colab import drive\n",
        "drive.mount('/content/drive')"
      ],
      "metadata": {
        "id": "LLQfvBkQJnxA"
      },
      "execution_count": null,
      "outputs": []
    },
    {
      "cell_type": "markdown",
      "source": [
        "# TORTOISE TTS 🐢"
      ],
      "metadata": {
        "id": "J0Jl0Nl1jcMM"
      }
    },
    {
      "cell_type": "code",
      "execution_count": null,
      "metadata": {
        "id": "7jMDAY-MHe-f"
      },
      "outputs": [],
      "source": [
        "#@title Initialize TorToiSe\n",
        "#clone repository for tortoise and set it up\n",
        "%cd /content\n",
        "!apt install python3.10-venv\n",
        "!git clone https://git.ecker.tech/mrq/ai-voice-cloning/\n",
        "%cd /content/ai-voice-cloning\n",
        "\n",
        "!python -m venv /venv\n",
        "\n",
        "!./setup-cuda.sh"
      ]
    },
    {
      "cell_type": "code",
      "source": [
        "#@title RECOVER TTS MODELS I: list the models in Drive\n",
        "\n",
        "tortoise_models_path = \"/content/drive/MyDrive/ai-voice-cloning-base/tortoise-backup/training\"\n",
        "\n",
        "for model in os.listdir(tortoise_models_path):\n",
        "    is_audio = False\n",
        "    num_audio = len(os.listdir(os.path.join(tortoise_models_path, model, \"audio\")))\n",
        "    if num_audio >= 1:\n",
        "        is_audio = True\n",
        "    epochs = [model.split(\"_\")[0] for model in os.listdir(os.path.join(tortoise_models_path, model, \"finetune/models\"))]\n",
        "    print(f\"{model=}, {is_audio=} ({num_audio}), {epochs=}\")\n"
      ],
      "metadata": {
        "id": "lIk95fRwJKt6"
      },
      "execution_count": null,
      "outputs": []
    },
    {
      "cell_type": "code",
      "source": [
        "#@title RECOVER TTS MODELS II: recover the model\n",
        "\n",
        "#@markdown Indicate the model name to recover\n",
        "MODEL = \"dc-narrator\" #@param {type: \"string\"}\n",
        "\n",
        "#@markdown Indicate the model epoch number to recover\n",
        "EPOCH = \"100\" #@param {type: \"string\"}\n",
        "MOD_TO_LOAD = EPOCH + \"_gpt.pth\"\n",
        "\n",
        "%cd /content/ai-voice-cloning/training\n",
        "!mkdir -p ./{MODEL}\n",
        "%cd /content/ai-voice-cloning/training/{MODEL}\n",
        "!mkdir -p ./finetune\n",
        "%cd /content/ai-voice-cloning/training/{MODEL}/finetune\n",
        "!mkdir -p ./models\n",
        "\n",
        "!cp -r /content/drive/MyDrive/ai-voice-cloning-base/tortoise-backup/training/{MODEL}/audio /content/ai-voice-cloning/training/{MODEL}\n",
        "!cp -r /content/drive/MyDrive/ai-voice-cloning-base/tortoise-backup/training/{MODEL}/finetune/models/{MOD_TO_LOAD} /content/ai-voice-cloning/training/{MODEL}/finetune/models"
      ],
      "metadata": {
        "id": "hXpw8AkA3Egn"
      },
      "execution_count": null,
      "outputs": []
    },
    {
      "cell_type": "code",
      "source": [
        "#@title RECOVER TTS VOICE I: list the voices in Drive\n",
        "\n",
        "tortoise_voices_path = \"/content/drive/MyDrive/ai-voice-cloning-base/tortoise-backup/voices\"\n",
        "\n",
        "for voice in os.listdir(tortoise_voices_path):\n",
        "    is_audio = False\n",
        "    num_audio = len(os.listdir(os.path.join(tortoise_voices_path, voice)))\n",
        "    if num_audio >= 1:\n",
        "        is_audio = True\n",
        "    print(f\"{voice=}, {is_audio=} ({num_audio})\")\n"
      ],
      "metadata": {
        "id": "sl1-rPeSLvmO"
      },
      "execution_count": null,
      "outputs": []
    },
    {
      "cell_type": "code",
      "source": [
        "#@title RECOVER TTS VOICE II: recover the model\n",
        "\n",
        "#@markdown Indicate the voice name to recover\n",
        "VOICE = \"elysium\" #@param {type: \"string\"}\n",
        "\n",
        "!cp -r /content/drive/MyDrive/ai-voice-cloning-base/tortoise-backup/voices/{VOICE} /content/ai-voice-cloning/voices"
      ],
      "metadata": {
        "id": "l-XqE34h5zcQ"
      },
      "execution_count": null,
      "outputs": []
    },
    {
      "cell_type": "code",
      "source": [
        "#@title Run TorToiSe WebUI\n",
        "%cd /content/ai-voice-cloning/\n",
        "!./start.sh --share"
      ],
      "metadata": {
        "id": "KEnoA92_ENRY"
      },
      "execution_count": null,
      "outputs": []
    },
    {
      "cell_type": "code",
      "source": [
        "#@title Export the TTS generation to drive\n",
        "\n",
        "#@markdown Indicate the voice from which to export\n",
        "VOICE = \"joyce-messier\" #@param {type: \"string\"}\n",
        "\n",
        "#@markdown Indicate the name of the folder to export to\n",
        "FOLDER = \"dr-moreau\" #@param {type: \"string\"}\n",
        "\n",
        "!mkdir /content/drive/MyDrive/ai-voice-cloning-base/tortoise-results/{FOLDER}\n",
        "!cp -r /content/ai-voice-cloning/results/{VOICE}/* /content/drive/MyDrive/ai-voice-cloning-base/tortoise-results/{FOLDER}/"
      ],
      "metadata": {
        "id": "2ruNAdEJ5NG6"
      },
      "execution_count": null,
      "outputs": []
    },
    {
      "cell_type": "code",
      "source": [
        "#move generations by tortoise outside and delete tortoise\n",
        "!mkdir -p /content/tortoise-results\n",
        "!cp -r /content/ai-voice-cloning/results/* /content/tortoise-results\n",
        "%cd /content\n",
        "!rm -r ai-voice-cloning"
      ],
      "metadata": {
        "id": "FnpxwNXiSuip"
      },
      "execution_count": null,
      "outputs": []
    },
    {
      "cell_type": "markdown",
      "source": [
        "# RVC VOICE CONVERSION"
      ],
      "metadata": {
        "id": "3B6yceOejuWo"
      }
    },
    {
      "cell_type": "code",
      "source": [
        "#@title Initialize RVC setup\n",
        "\n",
        "#install dependencies for RVC\n",
        "%cd /content\n",
        "!apt-get -y install build-essential python3-dev ffmpeg\n",
        "!pip3 install --upgrade setuptools wheel\n",
        "!pip3 install --upgrade pip\n",
        "!pip3 install faiss-cpu==1.7.2 fairseq gradio==3.14.0 ffmpeg ffmpeg-python praat-parselmouth pyworld numpy==1.23.5 numba==0.56.4 librosa==0.9.2\n",
        "\n",
        "#clone repository for RVC\n",
        "!git clone --depth=1 -b stable https://github.com/fumiama/Retrieval-based-Voice-Conversion-WebUI\n",
        "\n",
        "%cd /content/Retrieval-based-Voice-Conversion-WebUI\n",
        "!mkdir -p pretrained uvr5_weights\n",
        "\n",
        "#install aria2\n",
        "!apt -y install -qq aria2\n",
        "\n",
        "\n",
        "#download template\n",
        "!aria2c --console-log-level=error -c -x 16 -s 16 -k 1M https://huggingface.co/lj1995/VoiceConversionWebUI/resolve/main/pretrained/D32k.pth -d /content/Retrieval-based-Voice-Conversion-WebUI/pretrained -o D32k.pth\n",
        "!aria2c --console-log-level=error -c -x 16 -s 16 -k 1M https://huggingface.co/lj1995/VoiceConversionWebUI/resolve/main/pretrained/D40k.pth -d /content/Retrieval-based-Voice-Conversion-WebUI/pretrained -o D40k.pth\n",
        "!aria2c --console-log-level=error -c -x 16 -s 16 -k 1M https://huggingface.co/lj1995/VoiceConversionWebUI/resolve/main/pretrained/D48k.pth -d /content/Retrieval-based-Voice-Conversion-WebUI/pretrained -o D48k.pth\n",
        "!aria2c --console-log-level=error -c -x 16 -s 16 -k 1M https://huggingface.co/lj1995/VoiceConversionWebUI/resolve/main/pretrained/G32k.pth -d /content/Retrieval-based-Voice-Conversion-WebUI/pretrained -o G32k.pth\n",
        "!aria2c --console-log-level=error -c -x 16 -s 16 -k 1M https://huggingface.co/lj1995/VoiceConversionWebUI/resolve/main/pretrained/G40k.pth -d /content/Retrieval-based-Voice-Conversion-WebUI/pretrained -o G40k.pth\n",
        "!aria2c --console-log-level=error -c -x 16 -s 16 -k 1M https://huggingface.co/lj1995/VoiceConversionWebUI/resolve/main/pretrained/G48k.pth -d /content/Retrieval-based-Voice-Conversion-WebUI/pretrained -o G48k.pth\n",
        "!aria2c --console-log-level=error -c -x 16 -s 16 -k 1M https://huggingface.co/lj1995/VoiceConversionWebUI/resolve/main/pretrained/f0D32k.pth -d /content/Retrieval-based-Voice-Conversion-WebUI/pretrained -o f0D32k.pth\n",
        "!aria2c --console-log-level=error -c -x 16 -s 16 -k 1M https://huggingface.co/lj1995/VoiceConversionWebUI/resolve/main/pretrained/f0D40k.pth -d /content/Retrieval-based-Voice-Conversion-WebUI/pretrained -o f0D40k.pth\n",
        "!aria2c --console-log-level=error -c -x 16 -s 16 -k 1M https://huggingface.co/lj1995/VoiceConversionWebUI/resolve/main/pretrained/f0D48k.pth -d /content/Retrieval-based-Voice-Conversion-WebUI/pretrained -o f0D48k.pth\n",
        "!aria2c --console-log-level=error -c -x 16 -s 16 -k 1M https://huggingface.co/lj1995/VoiceConversionWebUI/resolve/main/pretrained/f0G32k.pth -d /content/Retrieval-based-Voice-Conversion-WebUI/pretrained -o f0G32k.pth\n",
        "!aria2c --console-log-level=error -c -x 16 -s 16 -k 1M https://huggingface.co/lj1995/VoiceConversionWebUI/resolve/main/pretrained/f0G40k.pth -d /content/Retrieval-based-Voice-Conversion-WebUI/pretrained -o f0G40k.pth\n",
        "!aria2c --console-log-level=error -c -x 16 -s 16 -k 1M https://huggingface.co/lj1995/VoiceConversionWebUI/resolve/main/pretrained/f0G48k.pth -d /content/Retrieval-based-Voice-Conversion-WebUI/pretrained -o f0G48k.pth\n",
        "\n",
        "#download speech separation model\n",
        "!aria2c --console-log-level=error -c -x 16 -s 16 -k 1M https://huggingface.co/lj1995/VoiceConversionWebUI/resolve/main/uvr5_weights/HP2-人声vocals+非人声instrumentals.pth -d /content/Retrieval-based-Voice-Conversion-WebUI/uvr5_weights -o HP2-人声vocals+非人声instrumentals.pth\n",
        "!aria2c --console-log-level=error -c -x 16 -s 16 -k 1M https://huggingface.co/lj1995/VoiceConversionWebUI/resolve/main/uvr5_weights/HP5-主旋律人声vocals+其他instrumentals.pth -d /content/Retrieval-based-Voice-Conversion-WebUI/uvr5_weights -o HP5-主旋律人声vocals+其他instrumentals.pth\n",
        "\n",
        "#download hubert-base\n",
        "!aria2c --console-log-level=error -c -x 16 -s 16 -k 1M https://huggingface.co/lj1995/VoiceConversionWebUI/resolve/main/hubert_base.pt -d /content/Retrieval-based-Voice-Conversion-WebUI -o hubert_base.pt"
      ],
      "metadata": {
        "id": "bKFjt5ioKtNR"
      },
      "execution_count": null,
      "outputs": []
    },
    {
      "cell_type": "code",
      "source": [
        "#@title RECOVER RVC MODEL I: list the models in Drive\n",
        "\n",
        "rvc_models_path = \"/content/drive/MyDrive/ai-voice-cloning-base/rvc-models\"\n",
        "\n",
        "for model in os.listdir(rvc_models_path):\n",
        "    is_index, is_D, is_G, is_main = False, False, False, False\n",
        "    D_list, G_list, main_list = [], [], []\n",
        "    for file in os.listdir(os.path.join(rvc_models_path, model)):\n",
        "        if \".index\" in file:\n",
        "            is_index = True\n",
        "        if \".pth\" in file:\n",
        "            file = file.strip(\".pth\")\n",
        "            if \"_D_\" in file:\n",
        "                is_D = True\n",
        "                D_list.append(file.split(\"_D_\")[-1])\n",
        "            elif \"_G_\" in file:\n",
        "                is_G = True\n",
        "                G_list.append(file.split(\"_G_\")[-1])\n",
        "            else:\n",
        "                is_main = True\n",
        "                main_list.append(file)\n",
        "    if is_index and is_main and is_D and is_G:\n",
        "        print(f\"{model=}\\n\\t\\tmain -> {main_list}\\n\\t\\tD -> {D_list}\\n\\t\\tG -> {G_list}\\n\\t\\t\")"
      ],
      "metadata": {
        "id": "ASRhbzN2MzGn"
      },
      "execution_count": null,
      "outputs": []
    },
    {
      "cell_type": "code",
      "source": [
        "#@title RECOVER RVC MODEL II: recover the speficied\n",
        "#@markdown You need to manually check the file names of the models in the \"logs\" folder and modify the file name at the end of the command below.\n",
        "\n",
        "#@markdown Model general name\n",
        "MODGENNAME = \"joshua-long-v3-model\" #@param {type:\"string\"}\n",
        "#@markdown Model name\n",
        "MODELNAME = \"joshua-long-v3\"  #@param {type:\"string\"}\n",
        "#@markdown Model epoch\n",
        "MODELEPOCH = \"9000\"  #@param {type:\"string\"}\n",
        "\n",
        "LOADDIR = \"/content/drive/MyDrive/ai-voice-cloning-base/rvc-models/\" + MODGENNAME\n",
        "\n",
        "\n",
        "!mkdir -p /content/Retrieval-based-Voice-Conversion-WebUI/logs/{MODELNAME}\n",
        "\n",
        "!cp {LOADDIR}/{MODELNAME}_D_{MODELEPOCH}.pth /content/Retrieval-based-Voice-Conversion-WebUI/logs/{MODELNAME}/G_{MODELEPOCH}.pth\n",
        "!cp {LOADDIR}/{MODELNAME}_G_{MODELEPOCH}.pth /content/Retrieval-based-Voice-Conversion-WebUI/logs/{MODELNAME}/D_{MODELEPOCH}.pth\n",
        "!mkdir -p /content/{MODELNAME}\n",
        "!cp {LOADDIR}/*.index /content/{MODELNAME}\n",
        "!cp {LOADDIR}/*.npy /content/{MODELNAME}\n",
        "!cp {LOADDIR}/{MODELNAME}{MODELEPOCH}.pth /content/Retrieval-based-Voice-Conversion-WebUI/weights/{MODELNAME}.pth"
      ],
      "metadata": {
        "id": "XgMVISNPD4dz"
      },
      "execution_count": null,
      "outputs": []
    },
    {
      "cell_type": "code",
      "source": [
        "#@title Run RVC WebUI\n",
        "%cd /content/Retrieval-based-Voice-Conversion-WebUI\n",
        "# %load_ext tensorboard\n",
        "# %tensorboard --logdir /content/Retrieval-based-Voice-Conversion-WebUI/logs\n",
        "!python3 infer-web.py --colab --pycmd python3"
      ],
      "metadata": {
        "id": "vt_xuuHyEC0W"
      },
      "execution_count": null,
      "outputs": []
    },
    {
      "cell_type": "markdown",
      "source": [
        "# TRAINING AND BACKUP"
      ],
      "metadata": {
        "id": "fstMI8X_j7yC"
      }
    },
    {
      "cell_type": "code",
      "source": [
        "#@title UNZIP AUDIO DATASETS I: list the datasets in Drive\n",
        "\n",
        "datasets_path = \"/content/drive/MyDrive/ai-voice-cloning-base/voice-datasets\"\n",
        "\n",
        "datasets = [dataset for dataset in os.listdir(datasets_path) if \".zip\" in dataset]\n",
        "\n",
        "for dataset in datasets:\n",
        "    print(dataset)"
      ],
      "metadata": {
        "id": "SAtL8E7WSrYJ"
      },
      "execution_count": null,
      "outputs": []
    },
    {
      "cell_type": "code",
      "source": [
        "#@title UNZIP AUDIO DATASETS II: unzip the dataset\n",
        "\n",
        "dataset_path = \"/content/drive/MyDrive/ai-voice-cloning-base/voice-datasets/\"\n",
        "\n",
        "#@markdown Indicate the name of the dataset\n",
        "DATASET = \"disco-elysium-narrator-10secs.zip\" #@param {type: \"string\"}\n",
        "\n",
        "DATASET = dataset_path + DATASET\n",
        "\n",
        "!mkdir -p /content/dataset\n",
        "!unzip -d /content/dataset -B {DATASET}"
      ],
      "metadata": {
        "id": "NsajDvvYwkRp"
      },
      "execution_count": null,
      "outputs": []
    },
    {
      "cell_type": "code",
      "source": [
        "%cd /content\n",
        "!rm -r ./{dataset,instruments,vocals}"
      ],
      "metadata": {
        "id": "kHaS92fuaE0P"
      },
      "execution_count": null,
      "outputs": []
    },
    {
      "cell_type": "code",
      "source": [
        "#@title Also place dataset into TTS voices folder\n",
        "\n",
        "#@markdown Indicate the voice name you want to create\n",
        "VOICENAME = \"dc-narrator\" #@param {type: \"string\"}\n",
        "\n",
        "%cd /content/ai-voice-cloning/voices\n",
        "!mkdir -p ./{VOICENAME}\n",
        "\n",
        "!cp /content/dataset/* /content/ai-voice-cloning/voices/{VOICENAME}/"
      ],
      "metadata": {
        "id": "xgSARPOUzvU5"
      },
      "execution_count": null,
      "outputs": []
    },
    {
      "cell_type": "code",
      "source": [
        "#@title Backup the RVC trained models to Drive\n",
        "#@markdown You need to check the file name of the model under the logs folder by yourself, and manually modify the file name at the end of the command below\n",
        "\n",
        "#@markdown Indicate the model file name you want to create\n",
        "MODELFILE = \"sinatra-exp-model\" #@param {type: \"string\"}\n",
        "# @markdown Indicate the model name\n",
        "MODELNAME = \"sinatra-exp\"  # @param {type:\"string\"}\n",
        "# @markdown Indicate the model epoch\n",
        "MODELEPOCH = 2000  # @param {type:\"integer\"}\n",
        "\n",
        "%cd /content/drive/MyDrive/ai-voice-cloning-base/rvc-models/\n",
        "!mkdir -p ./{MODELFILE}\n",
        "\n",
        "!cp /content/Retrieval-based-Voice-Conversion-WebUI/logs/{MODELNAME}/G_{MODELEPOCH}.pth /content/drive/MyDrive/ai-voice-cloning-base/rvc-models/{MODELFILE}/{MODELNAME}_D_{MODELEPOCH}.pth\n",
        "!cp /content/Retrieval-based-Voice-Conversion-WebUI/logs/{MODELNAME}/D_{MODELEPOCH}.pth /content/drive/MyDrive/ai-voice-cloning-base/rvc-models/{MODELFILE}/{MODELNAME}_G_{MODELEPOCH}.pth\n",
        "!cp /content/Retrieval-based-Voice-Conversion-WebUI/logs/{MODELNAME}/added_*.index /content/drive/MyDrive/ai-voice-cloning-base/rvc-models/{MODELFILE}\n",
        "!cp /content/Retrieval-based-Voice-Conversion-WebUI/logs/{MODELNAME}/total_*.npy /content/drive/MyDrive/ai-voice-cloning-base/rvc-models/{MODELFILE}\n",
        "\n",
        "!cp /content/Retrieval-based-Voice-Conversion-WebUI/weights/{MODELNAME}.pth /content/drive/MyDrive/ai-voice-cloning-base/rvc-models/{MODELFILE}/{MODELNAME}{MODELEPOCH}.pth"
      ],
      "metadata": {
        "id": "MgQIw0u2rFiE"
      },
      "execution_count": null,
      "outputs": []
    },
    {
      "cell_type": "code",
      "source": [
        "#@title Clean the TTS training and voices folders for generation\n",
        "\n",
        "#@markdown Indicate the voice files to keep (format: '\"voice_1.wav\", \"voice_2.wav\"')\n",
        "VOICES_TO_KEEP = \"Conceptualization-THOUGHT  ART COP-10.wav,Conceptualization-OFFICE  FILE CABINET-36.wav,Conceptualization-APT  STUDENT COMMUNIST-241.wav\" #@param {type: \"string\"}\n",
        "\n",
        "#@markdown Indicate the voice general name\n",
        "VOICE = \"dc-narrator\" #@param {type: \"string\"}\n",
        "\n",
        "!rm -r /content/ai-voice-cloning/voices/{VOICE}\n",
        "\n",
        "for VOICE_TO_KEEP in VOICES_TO_KEEP.split(\",\"):\n",
        "  !cp -r /content/ai-voice-cloning/training/{VOICE}/audio/{VOICE_TO_KEEP} /content/ai-voice-cloning/voices/{VOICE}\n",
        "\n",
        "!rm -r /content/ai-voice-cloning/training/{VOICE}/audio\n",
        "\n",
        "!cp -r /content/ai-voice-cloning/voices/{VOICE}/* /content/ai-voice-cloning/training/{VOICE}/audio"
      ],
      "metadata": {
        "id": "oVtUnIVocUrz"
      },
      "execution_count": null,
      "outputs": []
    },
    {
      "cell_type": "code",
      "source": [
        "#@title Clean the TTS training folder\n",
        "\n",
        "#@markdown Indicate the voice name\n",
        "VOICE = \"dc-narrator\" #@param {type: \"string\"}\n",
        "\n",
        "%cd /content\n",
        "!mkdir -p TEMP\n",
        "\n",
        "!cp -r /content/ai-voice-cloning/training/{VOICE}/audio /content/TEMP\n",
        "!cp -r /content/ai-voice-cloning/training/{VOICE}/finetune/models /content/TEMP\n",
        "\n",
        "%cd /content/ai-voice-cloning/training\n",
        "!rm -r ./{VOICE}\n",
        "\n",
        "%cd /content/ai-voice-cloning/training\n",
        "!mkdir -p ./{VOICE}\n",
        "\n",
        "!cp -r /content/TEMP/audio /content/ai-voice-cloning/training/{VOICE}\n",
        "\n",
        "%cd /content/ai-voice-cloning/training/{VOICE}\n",
        "!mkdir -p finetune\n",
        "\n",
        "!cp -r /content/TEMP/models /content/ai-voice-cloning/training/{VOICE}/finetune\n",
        "\n",
        "%cd /content\n",
        "!rm -r ./TEMP"
      ],
      "metadata": {
        "id": "R9L44AspjDc5"
      },
      "execution_count": null,
      "outputs": []
    },
    {
      "cell_type": "code",
      "source": [
        "#@title Save TTS model to Drive\n",
        "\n",
        "#@markdown Indicate the trained model name\n",
        "TRAINEDMODEL = \"dc-narrator\" #@param {type: \"string\"}\n",
        "\n",
        "#@markdown Indicate the model epoch\n",
        "TRAINEDEPOCH = \"25\" #@param {type: \"string\"}\n",
        "MODEL_TO_SAVE = TRAINEDEPOCH + \"_gpt.pth\"\n",
        "\n",
        "%cd /content/drive/MyDrive/ai-voice-cloning-base/tortoise-backup/training\n",
        "!mkdir -p ./{TRAINEDMODEL}\n",
        "%cd /content/drive/MyDrive/ai-voice-cloning-base/tortoise-backup/training/{TRAINEDMODEL}\n",
        "!mkdir -p ./finetune\n",
        "%cd /content/drive/MyDrive/ai-voice-cloning-base/tortoise-backup/training/{TRAINEDMODEL}/finetune\n",
        "!mkdir -p ./models\n",
        "\n",
        "!cp -r /content/ai-voice-cloning/training/{TRAINEDMODEL}/audio /content/drive/MyDrive/ai-voice-cloning-base/tortoise-backup/training/{TRAINEDMODEL}\n",
        "!cp -r /content/ai-voice-cloning/training/{TRAINEDMODEL}/finetune/models/{MODEL_TO_SAVE} /content/drive/MyDrive/ai-voice-cloning-base/tortoise-backup/training/{TRAINEDMODEL}/finetune/models"
      ],
      "metadata": {
        "id": "IyHZqJv5oiA8"
      },
      "execution_count": null,
      "outputs": []
    },
    {
      "cell_type": "code",
      "source": [
        "#@title Save TTS voice to Drive\n",
        "\n",
        "#@markdown Indicate the voice name\n",
        "VOICE = \"joshua-graham\" #@param {type: \"string\"}\n",
        "\n",
        "!cp -r /content/ai-voice-cloning/voices/{VOICE} /content/drive/MyDrive/ai-voice-cloning-base/tortoise-backup/voices/"
      ],
      "metadata": {
        "id": "3jHDYsqTtkAU"
      },
      "execution_count": null,
      "outputs": []
    },
    {
      "cell_type": "code",
      "source": [
        "#@title Export generations from TorToiSe to Drive\n",
        "import datetime\n",
        "\n",
        "file_name = datetime.datetime.now().isoformat()\n",
        "\n",
        "#@markdown Indicate the name of the voice model\n",
        "VOICE = \"joshua-voice\" #@param {type: \"string\"}\n",
        "\n",
        "#@ Export generations from TorToiSe to Drive\n",
        "!cp -r /content/ai-voice-cloning/results/{VOICE}/* /content/drive/MyDrive/ai-voice-cloning-base/tortoise-results/{file_name}/"
      ],
      "metadata": {
        "id": "KTp7QT05CeH5"
      },
      "execution_count": null,
      "outputs": []
    }
  ]
}